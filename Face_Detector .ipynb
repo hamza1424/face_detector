{
 "cells": [
  {
   "cell_type": "code",
   "execution_count": null,
   "metadata": {},
   "outputs": [],
   "source": [
    "# Importing Lib\n",
    "import cv2\n",
    "\n",
    "# Loading Cascade\n",
    "face_cascade = cv2.CascadeClassifier('haarcascade_frontalface_default.xml')\n",
    "\n",
    "# Reading video from WebCam\n",
    "cap = cv2.VideoCapture(0)\n",
    "\n",
    "cap.set(3,600)\n",
    "cap.set(4,480)\n",
    "\n",
    "\n",
    "\n",
    "#Showing Video \n",
    "while True:\n",
    "    \n",
    "    success, img = cap.read()\n",
    "    \n",
    "    # Converting to GrayScale\n",
    "\n",
    "    gray = cv2.cvtColor(img, cv2.COLOR_BGR2GRAY)\n",
    "\n",
    "    #Detecting Faces \n",
    "    \n",
    "    faces = face_cascade.detectMultiScale(gray, 1.1, 4)\n",
    "    \n",
    "    #Draw Rectangle around face\n",
    "#Func for Text\n",
    "\n",
    "\n",
    "    for ( x, y, w, h) in faces:\n",
    "        cv2.rectangle(img, (x,y),( x + w, y + h),(255,0,0),2)\n",
    "        cv2.putText(img,'Face',(x,y-10),cv2.FONT_HERSHEY_SIMPLEX,0.9,(0,255,255),2)\n",
    "        cv2.imshow(\"Face\",img)\n",
    "    \n",
    "\n",
    "\n",
    "    \n",
    "    if cv2.waitKey(30) == 27:\n",
    "        break\n",
    "        \n",
    "cv2.destroyAllWindows()\n",
    "cap.release()"
   ]
  },
  {
   "cell_type": "code",
   "execution_count": null,
   "metadata": {},
   "outputs": [],
   "source": []
  },
  {
   "cell_type": "code",
   "execution_count": null,
   "metadata": {},
   "outputs": [],
   "source": []
  }
 ],
 "metadata": {
  "kernelspec": {
   "display_name": "Python 3",
   "language": "python",
   "name": "python3"
  },
  "language_info": {
   "codemirror_mode": {
    "name": "ipython",
    "version": 3
   },
   "file_extension": ".py",
   "mimetype": "text/x-python",
   "name": "python",
   "nbconvert_exporter": "python",
   "pygments_lexer": "ipython3",
   "version": "3.8.5"
  }
 },
 "nbformat": 4,
 "nbformat_minor": 4
}
